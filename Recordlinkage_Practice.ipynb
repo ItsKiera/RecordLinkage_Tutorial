{
 "cells": [
  {
   "cell_type": "markdown",
   "metadata": {},
   "source": [
    "### Why Use Record Linkage?\n",
    "Record linkage is used **when two datasets contain records about the same entities (e.g., people, businesses, products) but lack unique identifiers.** Instead of a straightforward merge() (which requires a unique key like an ID), record linkage:\n",
    "\n",
    "1. **Identifies likely matches** based on shared attributes (e.g., names, addresses, birthdates).\n",
    "2. **Handles inconsistencies**, such as typos, abbreviations, or missing values.\n",
    "3. **Links records** that refer to the same entity across both datasets.\n",
    "\n",
    "Since record linkage is used **when unique identifiers are missing**, a simple merge() won't work. Instead, **fuzzy matching techniques** (like Levenshtein distance or phonetic matching) are used to identify records that are likely the same."
   ]
  },
  {
   "cell_type": "code",
   "execution_count": 98,
   "metadata": {},
   "outputs": [
    {
     "name": "stdout",
     "output_type": "stream",
     "text": [
      "MultiIndex([('rec-1070-org', 'rec-2642-dup-0'),\n",
      "            ('rec-1070-org', 'rec-1424-dup-0'),\n",
      "            ('rec-1070-org',  'rec-825-dup-0'),\n",
      "            ('rec-1070-org',  'rec-520-dup-0'),\n",
      "            ('rec-1070-org',  'rec-147-dup-0'),\n",
      "            ('rec-1070-org',  'rec-919-dup-0'),\n",
      "            ('rec-1070-org', 'rec-3156-dup-0'),\n",
      "            ('rec-1070-org', 'rec-1026-dup-0'),\n",
      "            ('rec-1070-org', 'rec-4342-dup-0'),\n",
      "            ('rec-1070-org', 'rec-2871-dup-0'),\n",
      "            ...\n",
      "            (  'rec-66-org',  'rec-196-dup-0'),\n",
      "            (  'rec-66-org',  'rec-546-dup-0'),\n",
      "            (  'rec-66-org',    'rec-6-dup-0'),\n",
      "            (  'rec-66-org', 'rec-2062-dup-0'),\n",
      "            (  'rec-66-org', 'rec-2281-dup-0'),\n",
      "            (  'rec-66-org', 'rec-4459-dup-0'),\n",
      "            (  'rec-66-org',  'rec-670-dup-0'),\n",
      "            (  'rec-66-org', 'rec-3152-dup-0'),\n",
      "            (  'rec-66-org', 'rec-3363-dup-0'),\n",
      "            (  'rec-66-org', 'rec-4495-dup-0')],\n",
      "           names=['rec_id_1', 'rec_id_2'], length=5458951)\n"
     ]
    }
   ],
   "source": [
    "import recordlinkage\n",
    "from recordlinkage.datasets import load_febrl4\n",
    "import pandas as pd\n",
    "dfA, dfB = load_febrl4()\n",
    "\n",
    "# Create an indexing object - this object helps generate pairs from dfA and dfB\n",
    "indexer = recordlinkage.Index()\n",
    "\n",
    "# Group together rows by blocking on the 'state' column\n",
    "indexer.block('state')\n",
    "\n",
    "# Generate pairs based on the blocking \n",
    "pairs = indexer.index(dfA, dfB)\n",
    "\n",
    "print(pairs)"
   ]
  },
  {
   "cell_type": "code",
   "execution_count": 99,
   "metadata": {},
   "outputs": [
    {
     "name": "stdout",
     "output_type": "stream",
     "text": [
      "                             first_name  date_of_birth  soc_sec_id  address_1\n",
      "rec_id_1     rec_id_2                                                        \n",
      "rec-4405-org rec-4405-dup-0           1              1           1        1.0\n",
      "rec-1288-org rec-1288-dup-0           1              1           1        1.0\n",
      "rec-3585-org rec-3585-dup-0           1              1           1        1.0\n",
      "rec-298-org  rec-298-dup-0            1              1           1        0.0\n",
      "rec-1985-org rec-1985-dup-0           0              1           1        1.0\n",
      "...                                 ...            ...         ...        ...\n",
      "rec-3877-org rec-3877-dup-0           1              1           0        1.0\n",
      "rec-1604-org rec-1604-dup-0           0              1           1        1.0\n",
      "rec-1003-org rec-1003-dup-0           0              1           1        1.0\n",
      "rec-4883-org rec-4883-dup-0           1              1           1        1.0\n",
      "rec-66-org   rec-66-dup-0             1              1           1        1.0\n",
      "\n",
      "[4148 rows x 4 columns]\n"
     ]
    }
   ],
   "source": [
    "# Create a comparison object\n",
    "compare_cl = recordlinkage.Compare()\n",
    "\n",
    "# Exact match on 'given_name'\n",
    "compare_cl.exact('given_name', 'given_name', label ='first_name')\n",
    "\n",
    "# Exact match on 'date_of_birth'\n",
    "compare_cl.exact('date_of_birth', 'date_of_birth', label ='date_of_birth')\n",
    "\n",
    "# Exact match on 'soc_sec_id'\n",
    "compare_cl.exact('soc_sec_id', 'soc_sec_id', label ='soc_sec_id')\n",
    "\n",
    "# String similarity comparison on 'address_1' using Levenshtein distance with a threshold of 0.85\n",
    "compare_cl.string('address_1', 'address_1', threshold=0.85, label='address_1')\n",
    "\n",
    "# Compute potential matches using the generated index pairs\n",
    "potential_matches = compare_cl.compute(pairs, dfA, dfB) \n",
    "\n",
    "# Multi-Index Data Frame is computed \n",
    "\n",
    "# Columns: A binary indicator (1 or 0) for each field (first_name, date_of_birth, soc_sec_id, address_1).\n",
    "\n",
    "# If a field matches exactly or meets the similarity threshold, it is marked as 1; otherwise, 0.\n",
    "\n",
    "# Find matches where the sum of matches across columns is >= 3\n",
    "# Helps identify strong duplicates, likely the same entity in dfA and dfB\n",
    "matched_rows = potential_matches[potential_matches.sum(axis=1) >= 3]\n",
    "\n",
    "print(matched_rows)"
   ]
  },
  {
   "cell_type": "code",
   "execution_count": 101,
   "metadata": {},
   "outputs": [
    {
     "name": "stdout",
     "output_type": "stream",
     "text": [
      "     given_name   surname street_number            address_1  \\\n",
      "0      michaela   neumann             8       stanley street   \n",
      "1      courtney   painter            12    pinkerton circuit   \n",
      "2       charles     green            38  salkauskas crescent   \n",
      "3       vanessa      parr           905       macquoid place   \n",
      "4       mikayla  malloney            37        randwick road   \n",
      "...         ...       ...           ...                  ...   \n",
      "5847     jordan  kondkaov           NaN          fleay place   \n",
      "5848       kyle      ryna            33                  NaN   \n",
      "5849    jackson  alderman            84                  NaN   \n",
      "5850       zali     white             6       mildura street   \n",
      "5851       saah   beattih            60          kay's place   \n",
      "\n",
      "               address_2            suburb postcode state date_of_birth  \\\n",
      "0                  miami     winston hills     4223   nsw      19151111   \n",
      "1             bega flats         richlands     4560   vic      19161214   \n",
      "2                   kela             dapto     4566   nsw      19480930   \n",
      "3      broadbridge manor     south grafton     2135    sa      19951119   \n",
      "4                avalind  hoppers crossing     4552   vic      19860208   \n",
      "...                  ...               ...      ...   ...           ...   \n",
      "5847    stocklandcrairns           clayton     2640   NaN      19270806   \n",
      "5848            rosehill           malvern     2884   tas      19420405   \n",
      "5849                 NaN         penshjrst     3129   vic      19351218   \n",
      "5850  r s l retrmnt vlge    elizabeth vale     3034   nsw      19402704   \n",
      "5851     oldershaw court          ashfield     2047   vic      19500712   \n",
      "\n",
      "     soc_sec_id  \n",
      "0       5304218  \n",
      "1       4066625  \n",
      "2       4365168  \n",
      "3       9239102  \n",
      "4       7207688  \n",
      "...         ...  \n",
      "5847    9875648  \n",
      "5848    4676455  \n",
      "5849    5612815  \n",
      "5850    5617219  \n",
      "5851    9435148  \n",
      "\n",
      "[5852 rows x 10 columns]\n",
      "Number of duplicate rows:  0\n"
     ]
    }
   ],
   "source": [
    "# Get indices from dfB only\n",
    "duplicates_rows = matched_rows.index.get_level_values(1)\n",
    "\n",
    "# Filters dfB to only include the rows that were identified as duplicates in matched_rows\n",
    "dfB_duplicates = dfB[dfB.index.isin(duplicates_rows)]\n",
    "\n",
    "# Finding new rows in dfB\n",
    "dfB_new = dfB[~dfB.index.isin(duplicates_rows)]\n",
    "\n",
    "# Link the data frames\n",
    "full_data = pd.concat([dfA, dfB_new], ignore_index=True) \n",
    "\n",
    "# full_data contains all unique records from both datasets, with duplicates removed.\n",
    "print(full_data)\n",
    "\n",
    "# ensures there are no duplicate rows in the full_data dataframe\n",
    "print('Number of duplicate rows: ', full_data.duplicated().sum())  "
   ]
  }
 ],
 "metadata": {
  "kernelspec": {
   "display_name": "Python 3",
   "language": "python",
   "name": "python3"
  },
  "language_info": {
   "codemirror_mode": {
    "name": "ipython",
    "version": 3
   },
   "file_extension": ".py",
   "mimetype": "text/x-python",
   "name": "python",
   "nbconvert_exporter": "python",
   "pygments_lexer": "ipython3",
   "version": "3.13.2"
  }
 },
 "nbformat": 4,
 "nbformat_minor": 2
}
